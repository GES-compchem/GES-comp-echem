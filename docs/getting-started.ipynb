{
 "cells": [
  {
   "cell_type": "markdown",
   "metadata": {},
   "source": [
    "(getting-started)=\n",
    "\n",
    "# Getting Started\n",
    "\n",
    "The `GES-comp-echem` package can be installed in a Conda environment with the command:\n",
    "```\n",
    "conda install -c greenenergystorage GES-comp-echem\n",
    "```\n",
    "\n",
    "The library can be imported in a Python script as a whole via the following syntax:\n",
    "\n",
    "```python\n",
    "import compechem\n",
    "```\n",
    "\n",
    "Alternatively, individual submodules/classes/functions can be imported separately:\n",
    "\n",
    "```python\n",
    "from compechem import systems\n",
    "from compechem.wrappers import dftbplus\n",
    "from compechem.wrappers.packmol import packmol_cube\n",
    "```\n",
    "\n",
    "For a more detailed explanation of the available features in each submodule, please refer to their specific page in this User Guide.\n",
    "\n",
    "---\n",
    "\n",
    "## My first calculation\n",
    "\n",
    "Let us go through the very basics of using the library. At the very least, you will need the geometrical structure of the system you want to study, in the form of a .xyz file. You can obtain it from available databases, or you can draw the structures yourself in programs such as [Avogadro](https://avogadro.cc/).\n",
    "\n",
    "Below is the `water.xyz` file, containing the structure of the water molecule, which we will use in these examples:\n",
    "\n",
    "```\n",
    "3\n",
    "\n",
    "O   0.000  -0.736   0.000  \n",
    "H   1.442   0.368   0.000  \n",
    "H  -1.442   0.368   0.000  \n",
    "```\n",
    "\n",
    "If you open the file in a molecular visualization software, you will notice the structure is not quite right. We can then optimise the structure with a software of choice. We will use [xTB](https://github.com/grimme-lab/xtb) in this example, due to its balance between accuracy and speed. The library needs the program to already be installed (preferably via conda) and ready to go.\n",
    "\n",
    "### Importing the library\n",
    "\n",
    "Before starting, we need to create a Python script and import the necessary modules from the library. We need the `System` submodule to store the information about our water molecule, and the `XtbInput` submodule to carry out the actual calculation:"
   ]
  },
  {
   "cell_type": "code",
   "execution_count": 1,
   "metadata": {},
   "outputs": [],
   "source": [
    "from compechem.systems import System\n",
    "from compechem import XtbInput"
   ]
  },
  {
   "cell_type": "markdown",
   "metadata": {},
   "source": [
    "### Creating the System object\n",
    "\n",
    "After importing the necessary modules, we can create our molecule, by indicating the (relative, or complete) path where the .xyz file is located:"
   ]
  },
  {
   "cell_type": "code",
   "execution_count": 2,
   "metadata": {},
   "outputs": [],
   "source": [
    "water = System(\"example_files/water.xyz\")"
   ]
  },
  {
   "cell_type": "markdown",
   "metadata": {},
   "source": [
    "### Creating a XtbInput object\n",
    "\n",
    "We can now setup a \"calculator\" object using the `XtbInput` wrapper. Most of these wrappers come with sensible default options for electrochemical calculations in solution. To see all the available options, please refer to the [wrappers](Guide-wrappers) section."
   ]
  },
  {
   "cell_type": "code",
   "execution_count": 3,
   "metadata": {},
   "outputs": [],
   "source": [
    "xtb = XtbInput()"
   ]
  },
  {
   "cell_type": "markdown",
   "metadata": {},
   "source": [
    "### Carrying out the calculation\n",
    "\n",
    "We can now carry out the calculation. We want to do a geometry optimization on our water molecule, and we want the original information for the molecule to be updated after the calculation (`inplace` flag). The syntax for this calculation is as follows:"
   ]
  },
  {
   "cell_type": "code",
   "execution_count": 4,
   "metadata": {},
   "outputs": [
    {
     "name": "stderr",
     "output_type": "stream",
     "text": [
      "RDKit WARNING: [16:03:26] Warning: molecule is tagged as 3D, but all Z coords are zero\n",
      "[16:03:26] Warning: molecule is tagged as 3D, but all Z coords are zero\n"
     ]
    }
   ],
   "source": [
    "xtb.opt(water, inplace=True)"
   ]
  },
  {
   "cell_type": "markdown",
   "metadata": {},
   "source": [
    "### Printing the results\n",
    "\n",
    "If you want to see the data currently stored in our `System` object, simply ask for it to be printed to screen:"
   ]
  },
  {
   "cell_type": "code",
   "execution_count": 5,
   "metadata": {},
   "outputs": [
    {
     "name": "stdout",
     "output_type": "stream",
     "text": [
      "=== System: water === \n",
      "\n",
      "Number of atoms: 3\n",
      "Charge: 0\n",
      "Spin: 1\n",
      "\n",
      "--- Warnings ---\n",
      "\n",
      "--- Energies (Eh) --- \n",
      "* Method: gfn2\n",
      "Electronic: -5.085021284485 Eh\n",
      "Vibronic: 0.002047859243 Eh\n",
      "\n",
      "--- Coordinates (Å) --- \n",
      "\n",
      "O\t-0.00000460653857\t-0.38108317129456\t0.00000066512472\n",
      "H\t0.77437021704155\t0.19053853063580\t-0.00000303561805\n",
      "H\t-0.77436561050298\t0.19054464065875\t0.00000237049333\n",
      "\n",
      "--- Velocities (Å/ps) --- \n",
      "\n",
      "\n"
     ]
    }
   ],
   "source": [
    "print(water)"
   ]
  },
  {
   "cell_type": "markdown",
   "metadata": {},
   "source": [
    "Et voilà! You have successfully carried out a geometry optimization for the water molecule using the `GES-comp-echem` library!"
   ]
  }
 ],
 "metadata": {
  "kernelspec": {
   "display_name": "Python 3.9.12 ('compchem')",
   "language": "python",
   "name": "python3"
  },
  "language_info": {
   "codemirror_mode": {
    "name": "ipython",
    "version": 3
   },
   "file_extension": ".py",
   "mimetype": "text/x-python",
   "name": "python",
   "nbconvert_exporter": "python",
   "pygments_lexer": "ipython3",
   "version": "3.9.12"
  },
  "orig_nbformat": 4,
  "vscode": {
   "interpreter": {
    "hash": "64b01b50245bf674db8575b53c9442d60c2fd6b5caf63b466b68f2338cfd2478"
   }
  }
 },
 "nbformat": 4,
 "nbformat_minor": 2
}
